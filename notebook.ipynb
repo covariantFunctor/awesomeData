{
 "cells": [
  {
   "cell_type": "markdown",
   "metadata": {
    "collapsed": true
   },
   "source": [
    "# Hello, World"
   ]
  },
  {
   "cell_type": "code",
   "execution_count": 12,
   "metadata": {},
   "outputs": [],
   "source": [
    "import csv\n",
    "\n",
    "import pandas as pd\n"
   ]
  },
  {
   "cell_type": "code",
   "execution_count": 22,
   "metadata": {},
   "outputs": [],
   "source": [
    "baseinfo = pd.read_csv('dataset/1baseinfo.csv')\n",
    "\n",
    "train = pd.read_csv('dataset/train.csv')\n"
   ]
  },
  {
   "cell_type": "code",
   "execution_count": 21,
   "metadata": {},
   "outputs": [
    {
     "name": "stdout",
     "output_type": "stream",
     "text": [
      "150095\n          EID  CreateYear  TradeType  RegisteredCapital  Type  Feature1  \\\n0   732046267        1980       51.0              480.0    13      25.0   \n1  1338267101        2005       74.0              240.0     5       0.0   \n2  1057042610        2011       75.0             3000.0     6       4.0   \n3   400121247        1982       55.0             1000.0     6       9.0   \n4   970179772        1986       53.0              150.0    17       4.0   \n5  1130660041        2004       51.0              500.0     6       3.0   \n6   371689898        2010       70.0             2000.0     6      25.0   \n7   647710623        2010       72.0            10100.0    16       NaN   \n8  1161140889        1989       54.0              100.0     6       2.0   \n9    92459160        2007       39.0              100.0     6       1.0   \n\n   Feature2  Feature3  Feature4  Feature5  Y   EndDate  \n0       1.0   98041.0      17.0       NaN  0       NaN  \n1       2.0    1500.0       0.0       NaN  0       NaN  \n2       8.0   10500.0      13.0       NaN  0       NaN  \n3       2.0  619318.0      31.0       NaN  0       NaN  \n4       1.0   13000.0      31.0       NaN  1  201612.0  \n5       1.0    3000.0       6.0       NaN  0       NaN  \n6       3.0   24250.0       5.0       NaN  0       NaN  \n7       2.0   10000.0       0.0       1.0  0       NaN  \n8       2.0     269.2       0.0       NaN  0       NaN  \n9       1.0    1685.0      11.0       NaN  0       NaN  \n"
     ]
    }
   ],
   "source": [
    "eval = pd.merge(baseinfo, train, on='EID', how='right')\n",
    "print(eval[0:10])\n"
   ]
  },
  {
   "cell_type": "code",
   "execution_count": null,
   "metadata": {},
   "outputs": [],
   "source": []
  }
 ],
 "metadata": {
  "kernelspec": {
   "display_name": "Python 2",
   "language": "python",
   "name": "python2"
  },
  "language_info": {
   "codemirror_mode": {
    "name": "ipython",
    "version": 2
   },
   "file_extension": ".py",
   "mimetype": "text/x-python",
   "name": "python",
   "nbconvert_exporter": "python",
   "pygments_lexer": "ipython2",
   "version": "2.7.6"
  }
 },
 "nbformat": 4,
 "nbformat_minor": 0
}
